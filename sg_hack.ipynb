{
  "nbformat": 4,
  "nbformat_minor": 0,
  "metadata": {
    "colab": {
      "provenance": [],
      "mount_file_id": "10ZG5aOsaFwxBbyiEKCXp2yGdoXY6BGPD",
      "authorship_tag": "ABX9TyMLXQrsuXHIm/8ngxlhIIO0",
      "include_colab_link": true
    },
    "kernelspec": {
      "name": "python3",
      "display_name": "Python 3"
    },
    "language_info": {
      "name": "python"
    }
  },
  "cells": [
    {
      "cell_type": "markdown",
      "metadata": {
        "id": "view-in-github",
        "colab_type": "text"
      },
      "source": [
        "<a href=\"https://colab.research.google.com/github/GIRINITH/Societe-Generale-Hackathon/blob/main/sg_hack.ipynb\" target=\"_parent\"><img src=\"https://colab.research.google.com/assets/colab-badge.svg\" alt=\"Open In Colab\"/></a>"
      ]
    },
    {
      "cell_type": "code",
      "execution_count": null,
      "metadata": {
        "colab": {
          "base_uri": "https://localhost:8080/"
        },
        "id": "xVMPwRrUOov8",
        "outputId": "bdbd6cf0-ffe1-4422-e806-d929d8aeaa44"
      },
      "outputs": [
        {
          "output_type": "stream",
          "name": "stdout",
          "text": [
            "Requirement already satisfied: openpyxl in /usr/local/lib/python3.10/dist-packages (3.1.5)\n",
            "Requirement already satisfied: python-docx in /usr/local/lib/python3.10/dist-packages (1.1.2)\n",
            "Requirement already satisfied: et-xmlfile in /usr/local/lib/python3.10/dist-packages (from openpyxl) (1.1.0)\n",
            "Requirement already satisfied: lxml>=3.1.0 in /usr/local/lib/python3.10/dist-packages (from python-docx) (4.9.4)\n",
            "Requirement already satisfied: typing-extensions>=4.9.0 in /usr/local/lib/python3.10/dist-packages (from python-docx) (4.12.2)\n"
          ]
        }
      ],
      "source": [
        "!pip install openpyxl python-docx"
      ]
    },
    {
      "cell_type": "code",
      "source": [
        "import openpyxl\n",
        "import re\n",
        "\n",
        "def extract_vba_code(file_path):\n",
        "    wb = openpyxl.load_workbook(file_path, keep_vba=True)\n",
        "    vba_code = {}\n",
        "    for sheet in wb.sheetnames:\n",
        "        ws = wb[sheet]\n",
        "        if hasattr(ws, 'vba_code'):\n",
        "            vba_code[sheet] = ws.vba_code\n",
        "    return vba_code\n",
        "\n",
        "file_path = '/content/vba_macro.xlsx'\n",
        "vba_code = extract_vba_code(file_path)\n"
      ],
      "metadata": {
        "id": "mOlO-fLzPEom"
      },
      "execution_count": null,
      "outputs": []
    },
    {
      "cell_type": "code",
      "source": [
        "from docx import Document\n",
        "\n",
        "def generate_documentation(vba_code):\n",
        "    doc = Document()\n",
        "    doc.add_heading('VBA Macro Documentation', 0)\n",
        "\n",
        "    for sheet, code in vba_code.items():\n",
        "        doc.add_heading(f'Sheet: {sheet}', level=1)\n",
        "        doc.add_paragraph(code)\n",
        "\n",
        "    doc.save('VBA_Macro_Documentation.docx')\n",
        "\n",
        "generate_documentation(vba_code)\n"
      ],
      "metadata": {
        "id": "WJhz8-5cQKCr"
      },
      "execution_count": null,
      "outputs": []
    },
    {
      "cell_type": "code",
      "source": [
        "def transform_vba_code(vba_code):\n",
        "    transformed_code = {}\n",
        "    for sheet, code in vba_code.items():\n",
        "        lines = code.split('\\n')\n",
        "        transformed_lines = []\n",
        "        for line in lines:\n",
        "            if 'Sub ' in line:\n",
        "                transformed_lines.append(\"' This is an auto-generated comment\")\n",
        "            transformed_lines.append(line)\n",
        "        transformed_code[sheet] = '\\n'.join(transformed_lines)\n",
        "    return transformed_code\n",
        "\n",
        "transformed_vba_code = transform_vba_code(vba_code)\n"
      ],
      "metadata": {
        "id": "OqUezbT-QTTY"
      },
      "execution_count": null,
      "outputs": []
    },
    {
      "cell_type": "code",
      "source": [
        "def save_transformed_code(file_path, transformed_vba_code):\n",
        "    wb = openpyxl.load_workbook(file_path, keep_vba=True)\n",
        "    for sheet in transformed_vba_code:\n",
        "        ws = wb[sheet]\n",
        "        ws.vba_code = transformed_vba_code[sheet]\n",
        "    wb.save('/content/transformed_vba_macro.xlsx')\n",
        "\n",
        "save_transformed_code(file_path, transformed_vba_code)\n"
      ],
      "metadata": {
        "id": "iU4zM-jhQYbD"
      },
      "execution_count": null,
      "outputs": []
    }
  ]
}